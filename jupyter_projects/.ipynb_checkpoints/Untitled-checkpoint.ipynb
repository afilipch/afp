{
 "cells": [
  {
   "cell_type": "markdown",
   "metadata": {},
   "source": [
    "## Microarray analyses for C.glutamicum"
   ]
  },
  {
   "cell_type": "code",
   "execution_count": 1,
   "metadata": {},
   "outputs": [],
   "source": [
    "import pandas as pd\n",
    "import numpy as np\n",
    "import matplotlib.pyplot as plt"
   ]
  },
  {
   "cell_type": "markdown",
   "metadata": {},
   "source": [
    "We have already processed the initial table in a way that: \n",
    "* it is filled by numeric values\n",
    "* formated to tab-separated version (.tsv)\n",
    "\n",
    "Now we download the table as DataFrame:"
   ]
  },
  {
   "cell_type": "code",
   "execution_count": 4,
   "metadata": {},
   "outputs": [],
   "source": [
    "PATH_TABLE = '/hdd/projects/angela_metaanalyses/data/preprocessed.tsv'\n",
    "df = pd.read_csv(PATH_TABLE, index_col = 0, sep='\\t')\n"
   ]
  },
  {
   "cell_type": "markdown",
   "metadata": {},
   "source": [
    " Explore basic statistics:"
   ]
  },
  {
   "cell_type": "code",
   "execution_count": 5,
   "metadata": {},
   "outputs": [
    {
     "name": "stdout",
     "output_type": "stream",
     "text": [
      "Number of experiments:\t403\n",
      "Number of genes:\t3047\n",
      "Set name\n",
      "set_AA_WT + 1% ethanol_vs_WT + 4% glucose (25.11.2019)              0.756969\n",
      "set_AA_WT + 1% EthOH_vs_WT + 1% potassium acetate (25.11.2019)      0.781755\n",
      "set_AC_Dcg0444_vs_WT 1% acetat (25.11.2019)                         0.602221\n",
      "set_AC_Dcg0444_vs_WT 2xTY (26.11.2019)                              0.579907\n",
      "set_AC_Dcg0444_vs_WT glucose (26.11.2019)                           0.680650\n",
      "                                                                      ...   \n",
      "set_XS_Dcg2947 Dcg2948 w/o CuSO4_vs_Dcg2947 Dcg2948 (13.11.2019)    0.977029\n",
      "set_XS_Dcg2947 Dcg2948_vs_WT (13.11.2019)                           1.354010\n",
      "set_XS_Dcg2947 Dcg2948_vs_WT w/o CuSO4 (13.11.2019)                 1.019296\n",
      "set_XS_WT w/o Cu_vs_WT OD 5 (14.11.2019)                            0.966857\n",
      "set_XS_WT w/o Cu_vs_WT OD20 (14.11.2019)                            1.008301\n",
      "Length: 403, dtype: float64\n"
     ]
    }
   ],
   "source": [
    "print(\"Number of experiments:\\t%d\\nNumber of genes:\\t%d\" % df.shape)\n",
    "print(type(df.mean(axis=1))"
   ]
  },
  {
   "cell_type": "markdown",
   "metadata": {},
   "source": [
    "We split the DataFrame into:\n",
    "* microarray intensities (DataFrame values) as numpy array\n",
    "* experiment names (DataFrame rows) as list\n",
    "* gene names (DataFrame columns) as list"
   ]
  },
  {
   "cell_type": "code",
   "execution_count": null,
   "metadata": {},
   "outputs": [],
   "source": []
  }
 ],
 "metadata": {
  "kernelspec": {
   "display_name": "Python 3",
   "language": "python",
   "name": "python3"
  },
  "language_info": {
   "codemirror_mode": {
    "name": "ipython",
    "version": 3
   },
   "file_extension": ".py",
   "mimetype": "text/x-python",
   "name": "python",
   "nbconvert_exporter": "python",
   "pygments_lexer": "ipython3",
   "version": "3.7.6"
  }
 },
 "nbformat": 4,
 "nbformat_minor": 4
}
