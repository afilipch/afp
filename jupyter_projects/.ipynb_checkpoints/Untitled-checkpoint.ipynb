{
 "cells": [
  {
   "cell_type": "markdown",
   "metadata": {},
   "source": [
    "## Microarray analyses for C.glutamicum"
   ]
  },
  {
   "cell_type": "markdown",
   "metadata": {},
   "source": [
    "We have already processed the initial table in a way that: \n",
    "* it is filled by numeric values\n",
    "* does not consist of experiments without any signal\n",
    "* formated to tab-separated version (.tsv)\n",
    "\n",
    "Now we download it as DataFrame and store:\n",
    "* microarray intensities (DataFrame values) as numpy array\n",
    "* experiment names "
   ]
  }
 ],
 "metadata": {
  "kernelspec": {
   "display_name": "Python 3",
   "language": "python",
   "name": "python3"
  },
  "language_info": {
   "codemirror_mode": {
    "name": "ipython",
    "version": 3
   },
   "file_extension": ".py",
   "mimetype": "text/x-python",
   "name": "python",
   "nbconvert_exporter": "python",
   "pygments_lexer": "ipython3",
   "version": "3.7.6"
  }
 },
 "nbformat": 4,
 "nbformat_minor": 4
}
